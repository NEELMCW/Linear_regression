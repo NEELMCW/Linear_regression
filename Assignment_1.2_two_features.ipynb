{
 "cells": [
  {
   "cell_type": "code",
   "execution_count": 1,
   "metadata": {},
   "outputs": [],
   "source": [
    "import csv\n",
    "import numpy as np\n",
    "import matplotlib.pyplot as plt\n",
    "import pandas as pd\n",
    "from datetime import date\n",
    "import string"
   ]
  },
  {
   "cell_type": "code",
   "execution_count": 2,
   "metadata": {},
   "outputs": [],
   "source": [
    "#read from file as list\n",
    "df =  pd.read_csv('data/sachin-stats.csv',sep=',')\n",
    "start_date_str = \"18 Dec 1989\"\n",
    "end_date_str   = \"23 Dec 2012\""
   ]
  },
  {
   "cell_type": "code",
   "execution_count": 3,
   "metadata": {},
   "outputs": [],
   "source": [
    "def get_date(date_str):\n",
    "    Months = [\"Jan\", \"Feb\", \"Mar\", \"Apr\", \"May\", \"Jun\", \"Jul\", \"Aug\", \"Sep\", \"Oct\", \"Nov\", \"Dec\"]\n",
    "    for index,month in enumerate(Months):\n",
    "        if month in date_str:\n",
    "            split_str = string.split(date_str, \" \")\n",
    "            d = date(int(split_str[2]), index+1, int(split_str[0]))\n",
    "            return d\n",
    "        else:\n",
    "            continue\n",
    "    return \"\""
   ]
  },
  {
   "cell_type": "code",
   "execution_count": 4,
   "metadata": {},
   "outputs": [
    {
     "name": "stdout",
     "output_type": "stream",
     "text": [
      "('Total number of days = ', 8406)\n"
     ]
    }
   ],
   "source": [
    "start_date = get_date(start_date_str)\n",
    "end_date   = get_date(end_date_str)\n",
    "number_of_days = (end_date - start_date).days\n",
    "print (\"Total number of days = \", number_of_days)"
   ]
  },
  {
   "cell_type": "code",
   "execution_count": 5,
   "metadata": {},
   "outputs": [],
   "source": [
    "avg_k_matches = 5\n",
    "rows, cols = df.shape\n",
    "\n",
    "#Input\n",
    "avg_k_list = []\n",
    "odi_date_list = []\n",
    "\n",
    "# Output\n",
    "odi_runs_list = []\n",
    "\n",
    "for loop_index_1 in range(avg_k_matches, rows):\n",
    "    # Get Average score from last K matches\n",
    "    sum_count = 0\n",
    "    for loop_index_2 in range(0, avg_k_matches):\n",
    "        run = df.iloc[loop_index_1-loop_index_2-1][1]\n",
    "        if run == \"DNB\" or run == \"TDNB\":\n",
    "            run = 0\n",
    "        elif run.endswith(\"*\"): \n",
    "            run = run[:-1]\n",
    "        sum_count = sum_count + int(run)\n",
    "    avg_k_list.append(float(sum_count)/avg_k_matches)\n",
    "    \n",
    "    # Get ODI Date\n",
    "    match_date_str = df.iloc[loop_index_1][13]\n",
    "    match_date = get_date(match_date_str)\n",
    "    \n",
    "    odi_threshold = float((match_date - start_date).days) / number_of_days\n",
    "    odi_date_list.append(odi_threshold)\n",
    "    \n",
    "    # Get ODI runs\n",
    "    run = df.iloc[loop_index_1][1]\n",
    "    if run == \"DNB\" or run == \"TDNB\":\n",
    "        run = 0\n",
    "    elif run.endswith(\"*\"):\n",
    "        run = run[:1]\n",
    "    odi_runs_list.append(int(run))\n",
    "     "
   ]
  },
  {
   "cell_type": "code",
   "execution_count": 6,
   "metadata": {},
   "outputs": [],
   "source": [
    "fit_p = np.polyfit(avg_k_list, odi_runs_list,1)\n",
    "fit_fn_p = np.poly1d(fit_p) "
   ]
  },
  {
   "cell_type": "code",
   "execution_count": 7,
   "metadata": {},
   "outputs": [
    {
     "data": {
      "text/plain": [
       "[<matplotlib.lines.Line2D at 0x7f6b71fe6190>,\n",
       " <matplotlib.lines.Line2D at 0x7f6b489de4d0>]"
      ]
     },
     "execution_count": 7,
     "metadata": {},
     "output_type": "execute_result"
    },
    {
     "data": {
      "image/png": "[encoded data removed]",
      "text/plain": [
       "<Figure size 432x288 with 1 Axes>"
      ]
     },
     "metadata": {},
     "output_type": "display_data"
    }
   ],
   "source": [
    "plt.plot(avg_k_list,odi_runs_list, 'go', avg_k_list, fit_fn_p(avg_k_list), '--b')"
   ]
  },
  {
   "cell_type": "code",
   "execution_count": 22,
   "metadata": {},
   "outputs": [],
   "source": [
    "def Get_Hypothesis_val(w1,w2,b,x1,x2):\n",
    "    # Get Hypthesis value\n",
    "    return ((w1*x1) + (w2*x2) + b)\n",
    "\n",
    "def Calculate_loss(y, yH, m):\n",
    "    # Mean squared error\n",
    "    error_list = yH - y\n",
    "    sum_count = 0\n",
    "    for index in range(m):\n",
    "        sum_count = sum_count + error_list[index]**2\n",
    "    return (sum_count/(m*2))\n",
    "\n",
    "def Update_weights(x1, x2, y, yH, w1, w2, b, learning_rate):\n",
    "    error_list = (yH - y)\n",
    "    w1_grad = np.dot(error_list, x1)\n",
    "    w2_grad = np.dot(error_list, x2)\n",
    "    b_grad  = error_list.sum()\n",
    "    w1 = w1 - (learning_rate * w1_grad)\n",
    "    w2 = w2 - (learning_rate * w2_grad)\n",
    "    b  = b  - (learning_rate * b_grad) \n",
    "    return w1, w2, b\n",
    "    \n",
    "def Fit_my_model(x1,x2,y,learning_rate, iterations):\n",
    "    w1 = 0.001\n",
    "    w2 = 0.001\n",
    "    b  = 0.001\n",
    "    x1 = np.array(x1)\n",
    "    x2 = np.array(x2)\n",
    "    y  = np.array(y)\n",
    "    m  = len(x1)\n",
    "    loss_vector = []\n",
    "    for index in range(0,iterations):\n",
    "        yH   = Get_Hypothesis_val(w1,w2,b,x1,x2)\n",
    "        loss_vector.append(Calculate_loss(y, yH, m))\n",
    "        w1, w2, b = Update_weights(x1, x2, y, yH, w1, w2, b, learning_rate)\n",
    "    plt.plot(range(0,iterations), loss_vector, \"r\", label='Training loss')\n",
    "    plt.xlabel('No of Iterations')\n",
    "    plt.ylabel( 'Loss: J(w1, w2, b)')\n",
    "    plt.show()\n",
    "    \n",
    "        #loss print (w1, w2, b)"
   ]
  },
  {
   "cell_type": "code",
   "execution_count": 21,
   "metadata": {},
   "outputs": [
    {
     "data": {
      "image/png": "[encoded data removed]",
      "text/plain": [
       "<Figure size 432x288 with 1 Axes>"
      ]
     },
     "metadata": {},
     "output_type": "display_data"
    }
   ],
   "source": [
    "Fit_my_model(avg_k_list, odi_date_list, odi_runs_list, 0.00000001, 1000)"
   ]
  },
  {
   "cell_type": "code",
   "execution_count": null,
   "metadata": {},
   "outputs": [],
   "source": []
  },
  {
   "cell_type": "code",
   "execution_count": null,
   "metadata": {},
   "outputs": [],
   "source": []
  },
  {
   "cell_type": "code",
   "execution_count": null,
   "metadata": {},
   "outputs": [],
   "source": []
  },
  {
   "cell_type": "code",
   "execution_count": null,
   "metadata": {},
   "outputs": [],
   "source": []
  }
 ],
 "metadata": {
  "kernelspec": {
   "display_name": "Python 2",
   "language": "python",
   "name": "python2"
  },
  "language_info": {
   "codemirror_mode": {
    "name": "ipython",
    "version": 2
   },
   "file_extension": ".py",
   "mimetype": "text/x-python",
   "name": "python",
   "nbconvert_exporter": "python",
   "pygments_lexer": "ipython2",
   "version": "2.7.12"
  }
 },
 "nbformat": 4,
 "nbformat_minor": 2
}
