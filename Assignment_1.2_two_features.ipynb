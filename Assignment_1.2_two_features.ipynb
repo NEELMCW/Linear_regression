{
 "cells": [
  {
   "cell_type": "code",
   "execution_count": 1,
   "metadata": {},
   "outputs": [],
   "source": [
    "import csv\n",
    "import numpy as np\n",
    "import matplotlib.pyplot as plt\n",
    "import pandas as pd\n",
    "from datetime import date\n",
    "import string"
   ]
  },
  {
   "cell_type": "code",
   "execution_count": 2,
   "metadata": {},
   "outputs": [],
   "source": [
    "#read from file as list\n",
    "df =  pd.read_csv('data/sachin-stats.csv',sep=',')\n",
    "start_date_str = \"18 Dec 1989\"\n",
    "end_date_str   = \"23 Dec 2012\""
   ]
  },
  {
   "cell_type": "code",
   "execution_count": 3,
   "metadata": {},
   "outputs": [],
   "source": [
    "def get_date(date_str):\n",
    "    Months = [\"Jan\", \"Feb\", \"Mar\", \"Apr\", \"May\", \"Jun\", \"Jul\", \"Aug\", \"Sep\", \"Oct\", \"Nov\", \"Dec\"]\n",
    "    for index,month in enumerate(Months):\n",
    "        if month in date_str:\n",
    "            split_str = string.split(date_str, \" \")\n",
    "            d = date(int(split_str[2]), index+1, int(split_str[0]))\n",
    "            return d\n",
    "        else:\n",
    "            continue\n",
    "    return \"\""
   ]
  },
  {
   "cell_type": "code",
   "execution_count": 4,
   "metadata": {},
   "outputs": [
    {
     "name": "stdout",
     "output_type": "stream",
     "text": [
      "('Total number of days = ', 8406)\n"
     ]
    }
   ],
   "source": [
    "start_date = get_date(start_date_str)\n",
    "end_date   = get_date(end_date_str)\n",
    "number_of_days = (end_date - start_date).days\n",
    "print (\"Total number of days = \", number_of_days)"
   ]
  },
  {
   "cell_type": "code",
   "execution_count": 5,
   "metadata": {},
   "outputs": [],
   "source": [
    "avg_k_matches = 5\n",
    "rows, cols = df.shape\n",
    "\n",
    "#Input\n",
    "avg_k_list = []\n",
    "odi_date_list = []\n",
    "\n",
    "# Output\n",
    "odi_runs_list = []\n",
    "\n",
    "for loop_index_1 in range(avg_k_matches, rows):\n",
    "    # Get Average score from last K matches\n",
    "    sum_count = 0\n",
    "    for loop_index_2 in range(0, avg_k_matches):\n",
    "        run = df.iloc[loop_index_1-loop_index_2-1][1]\n",
    "        if run == \"DNB\" or run == \"TDNB\":\n",
    "            run = 0\n",
    "        elif run.endswith(\"*\"): \n",
    "            run = run[:-1]\n",
    "        sum_count = sum_count + int(run)\n",
    "    avg_k_list.append(float(sum_count)/avg_k_matches)\n",
    "    \n",
    "    # Get ODI Date\n",
    "    match_date_str = df.iloc[loop_index_1][13]\n",
    "    match_date = get_date(match_date_str)\n",
    "    \n",
    "    odi_threshold = float((match_date - start_date).days) / number_of_days\n",
    "    odi_date_list.append(odi_threshold)\n",
    "    \n",
    "    # Get ODI runs\n",
    "    run = df.iloc[loop_index_1][1]\n",
    "    if run == \"DNB\" or run == \"TDNB\":\n",
    "        run = 0\n",
    "    elif run.endswith(\"*\"):\n",
    "        run = run[:1]\n",
    "    odi_runs_list.append(int(run))\n",
    "     "
   ]
  },
  {
   "cell_type": "code",
   "execution_count": 6,
   "metadata": {},
   "outputs": [],
   "source": [
    "fit_p = np.polyfit(avg_k_list, odi_runs_list,1)\n",
    "fit_fn_p = np.poly1d(fit_p) "
   ]
  },
  {
   "cell_type": "code",
   "execution_count": 7,
   "metadata": {},
   "outputs": [
    {
     "data": {
      "text/plain": [
       "[<matplotlib.lines.Line2D at 0x7f3095fe5390>,\n",
       " <matplotlib.lines.Line2D at 0x7f306c9df4d0>]"
      ]
     },
     "execution_count": 7,
     "metadata": {},
     "output_type": "execute_result"
    },
    {
     "data": {
      "image/png": "[encoded data removed]",
      "text/plain": [
       "<Figure size 432x288 with 1 Axes>"
      ]
     },
     "metadata": {},
     "output_type": "display_data"
    }
   ],
   "source": [
    "plt.plot(avg_k_list,odi_runs_list, 'go', avg_k_list, fit_fn_p(avg_k_list), '--b')"
   ]
  },
  {
   "cell_type": "code",
   "execution_count": 11,
   "metadata": {},
   "outputs": [],
   "source": [
    "def Get_Hypothesis_val(w1,w2,b,x1,x2):\n",
    "    # Get Hypthesis value\n",
    "    #Linear regression: Fitting first degree polynomial\n",
    "    return ((w1*x1) + (w2*x2) + b)  \n",
    "\n",
    "def Calculate_loss(y, yH, m):\n",
    "    # Mean squared error\n",
    "    error_list = yH - y\n",
    "    squared_error_list = error_list**2\n",
    "    mean_square_error = (squared_error_list.sum())/2*m\n",
    "    return (mean_square_error)\n",
    "\n",
    "def Update_weights(x1, x2, y, yH, w1, w2, b, learning_rate):\n",
    "    error_list = (yH - y)\n",
    "    w1_grad = np.dot(error_list, x1)\n",
    "    w2_grad = np.dot(error_list, x2)\n",
    "    b_grad  = error_list.sum()\n",
    "    w1 = w1 - (learning_rate * w1_grad)\n",
    "    w2 = w2 - (learning_rate * w2_grad)\n",
    "    b  = b  - (learning_rate * b_grad) \n",
    "    return w1, w2, b\n",
    "    \n",
    "def Fit_my_model(x1,x2,y,learning_rate, iterations):\n",
    "    #initial weight set up\n",
    "    w1 = 0.0001\n",
    "    w2 = 0.0001\n",
    "    b  = 0.0001\n",
    "    x1 = np.array(x1)\n",
    "    x2 = np.array(x2)\n",
    "    y  = np.array(y)\n",
    "    m  = len(x1)\n",
    "    loss_vector = []\n",
    "    for index in range(0,iterations):\n",
    "        yH   = Get_Hypothesis_val(w1,w2,b,x1,x2)\n",
    "        loss_vector.append(Calculate_loss(y, yH, m))\n",
    "        w1, w2, b = Update_weights(x1, x2, y, yH, w1, w2, b, learning_rate)\n",
    "    return loss_vector\n",
    "    \n",
    "        "
   ]
  },
  {
   "cell_type": "code",
   "execution_count": 29,
   "metadata": {},
   "outputs": [
    {
     "data": {
      "image/png": "[encoded data removed]",
      "text/plain": [
       "<Figure size 432x288 with 1 Axes>"
      ]
     },
     "metadata": {},
     "output_type": "display_data"
    }
   ],
   "source": [
    "training_iterations = 2000\n",
    "\n",
    "loss_vector0 = Fit_my_model(avg_k_list, odi_date_list, odi_runs_list, 1e-6, training_iterations)\n",
    "loss_vector1 = Fit_my_model(avg_k_list, odi_date_list, odi_runs_list, 1e-7, training_iterations)\n",
    "loss_vector2 = Fit_my_model(avg_k_list, odi_date_list, odi_runs_list, 1e-8, training_iterations)\n",
    "loss_vector3 = Fit_my_model(avg_k_list, odi_date_list, odi_runs_list, 1e-9, training_iterations)\n",
    "\n",
    "plt.title(\"Training Accuracy\")\n",
    "plt.plot(range(0,training_iterations), loss_vector0, 'b', loss_vector1, 'r',  loss_vector2, 'g',  loss_vector3, 'y')\n",
    "plt.xlabel('No of Iterations')\n",
    "plt.ylabel( 'Loss: J(w1, w2, b)')\n",
    "plt.legend(['Alpha = 1e-6', 'Alpha = 1e-7', 'Alpha = 1e-8', 'Alpha = 1e-9'])\n",
    "#plt.axis([0,5000, 0, 2.6*1e8])\n",
    "plt.show()"
   ]
  },
  {
   "cell_type": "code",
   "execution_count": null,
   "metadata": {},
   "outputs": [],
   "source": []
  },
  {
   "cell_type": "code",
   "execution_count": null,
   "metadata": {},
   "outputs": [],
   "source": []
  },
  {
   "cell_type": "code",
   "execution_count": null,
   "metadata": {},
   "outputs": [],
   "source": []
  },
  {
   "cell_type": "code",
   "execution_count": null,
   "metadata": {},
   "outputs": [],
   "source": []
  }
 ],
 "metadata": {
  "kernelspec": {
   "display_name": "Python 2",
   "language": "python",
   "name": "python2"
  },
  "language_info": {
   "codemirror_mode": {
    "name": "ipython",
    "version": 2
   },
   "file_extension": ".py",
   "mimetype": "text/x-python",
   "name": "python",
   "nbconvert_exporter": "python",
   "pygments_lexer": "ipython2",
   "version": "2.7.12"
  }
 },
 "nbformat": 4,
 "nbformat_minor": 2
}
